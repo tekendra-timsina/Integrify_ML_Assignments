{
 "cells": [
  {
   "cell_type": "markdown",
   "metadata": {},
   "source": [
    " The normalizing constant is used to reduce any probability function to a probability density function with total probability of one. The normalized covariance is called the correlation coefficient and the normalization constant here is the product of standard deviations (square root of variance).\n",
    " i.e. \n",
    "\\begin{equation}\n",
    "\\rho_{X Y}=\\sigma_{X Y} /\\left(\\sigma_{X} \\sigma_{Y}\\right)\n",
    "\\end{equation}\n",
    "\n",
    " Covariance matrix is actually the combination of variance and covariance in a matrix form. The diagonal elements of the matrix represents the variance whereas the non-diagonal elements are covariance.  TO compute the variance and covariance of the sample, we need to calculate the mean of the variables and compute using following formula.\n",
    "\n",
    "The variance is calculated as:\n",
    "\\begin{equation}\n",
    "s^{2}=\\frac{\\sum\\left(x_{1}-\\overline{x}\\right)^{2}}{n-1}\n",
    "\\end{equation}\n",
    "\n",
    "The covariance is calculated as:\n",
    "\n",
    "\\begin{equation}\n",
    "\\operatorname{Cov}(x, y)=\\frac{\\sum\\left(x_{i}-\\overline{x}\\right) *\\left(y_{i}-\\overline{y}\\right)}{(N-1)}\n",
    "\\end{equation}\n",
    "\n",
    "An estimator is a statistic that perform the estimation process and estimates the fact about the population i.e. consider the sample data and estimates the parameter. Bias of an estimator is the error difference between the estimated value and true value of the parameter."
   ]
  }
 ],
 "metadata": {
  "kernelspec": {
   "display_name": "Python 3",
   "language": "python",
   "name": "python3"
  },
  "language_info": {
   "codemirror_mode": {
    "name": "ipython",
    "version": 3
   },
   "file_extension": ".py",
   "mimetype": "text/x-python",
   "name": "python",
   "nbconvert_exporter": "python",
   "pygments_lexer": "ipython3",
   "version": "3.7.2"
  },
  "toc": {
   "base_numbering": 1,
   "nav_menu": {},
   "number_sections": true,
   "sideBar": true,
   "skip_h1_title": false,
   "title_cell": "Table of Contents",
   "title_sidebar": "Contents",
   "toc_cell": false,
   "toc_position": {},
   "toc_section_display": true,
   "toc_window_display": false
  },
  "varInspector": {
   "cols": {
    "lenName": 16,
    "lenType": 16,
    "lenVar": 40
   },
   "kernels_config": {
    "python": {
     "delete_cmd_postfix": "",
     "delete_cmd_prefix": "del ",
     "library": "var_list.py",
     "varRefreshCmd": "print(var_dic_list())"
    },
    "r": {
     "delete_cmd_postfix": ") ",
     "delete_cmd_prefix": "rm(",
     "library": "var_list.r",
     "varRefreshCmd": "cat(var_dic_list()) "
    }
   },
   "types_to_exclude": [
    "module",
    "function",
    "builtin_function_or_method",
    "instance",
    "_Feature"
   ],
   "window_display": false
  }
 },
 "nbformat": 4,
 "nbformat_minor": 2
}
