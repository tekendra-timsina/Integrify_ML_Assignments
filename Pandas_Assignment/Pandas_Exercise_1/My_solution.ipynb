{
 "cells": [
  {
   "cell_type": "markdown",
   "metadata": {},
   "source": [
    "COMPREHENSIVE DATA EXPLORATION WITH PYTHON was not only a good read with interesting story explaining the data analysis but also provided grgeat information on overall data analysis. Following are the five main things i learned from this kaggel excercise.\n",
    "    1. Important desciption and visualization of data using python \n",
    "    2. Relationship between various variables and their importance\n",
    "    3. Seaborn was itself new to me and the pairplot features of it was very interesting to see the overall data          distribution\n",
    "    4. Had a good practice  on dealing with missing data using both pandas and numpy\n",
    "    5. Learn to use data transformation (log transformation)  to make the data plot normal"
   ]
  },
  {
   "cell_type": "markdown",
   "metadata": {},
   "source": [
    "Python based data-analysis framework Pandas is a great tool. I really like it due to it being simple, yet powerful tool. We can work with various differnet kind of data (csv,json,excel,yml,sqlite) we collected from various sources in pandas. For me, pandas is similar to data query language, sql as it can do pretty much everything sql can do. We can do data pre-procesing using pandas and visualize the important variables from the who bunch of raw data. We can group the data based on certain variables(dataframe.groupby), delete the unnecessary variables (dataframe.drop),see the correlation between different data parameters by concating it(df.concat) . We can do data indexing using pandas, fill the missing values with logical value such as average. We can ever rename the  column title for our simplicity using .rename features or by rewriting all the column names as df.columns = ['name here']. "
   ]
  },
  {
   "cell_type": "markdown",
   "metadata": {},
   "source": [
    "# Basic info\n",
    "Read the data-file (a 10 000 row subset of most rated IMDB-movies) into Pandas DataFrame and name the DataFrame-variable to `df` (use tab-character (`\\t`) as the separator)\n",
    "\n",
    "1. Use the following column-names: `ID, title, year, rating, votes, duration, genres`\n",
    "2. Index the `df` with `ID`-column (either on reading the file or after it.)\n",
    "3. Display first 5 rows of the `df`\n",
    "4. Display last 11 rows of the `df`\n",
    "5. Display the `df`-info"
   ]
  },
  {
   "cell_type": "code",
   "execution_count": 90,
   "metadata": {
    "ExecuteTime": {
     "end_time": "2019-07-04T13:27:45.008192Z",
     "start_time": "2019-07-04T13:27:44.981198Z"
    }
   },
   "outputs": [],
   "source": [
    "import pandas as pd \n",
    "import numpy as np \n",
    "import matplotlib.pyplot as plt\n",
    "import seaborn as sns\n",
    "import  gzip"
   ]
  },
  {
   "cell_type": "code",
   "execution_count": 91,
   "metadata": {
    "ExecuteTime": {
     "end_time": "2019-07-04T13:27:45.911374Z",
     "start_time": "2019-07-04T13:27:45.716858Z"
    }
   },
   "outputs": [],
   "source": [
    "df = pd.read_csv('movie_data.txt', sep = \"\\t\", header = None) # converting the txt data to dataframe\n",
    "df.columns = ['ID', 'title', 'year', 'rating', 'votes', 'duration', 'genres'] #inserting header, alternatively i can use as nasme in first line too"
   ]
  },
  {
   "cell_type": "code",
   "execution_count": 92,
   "metadata": {
    "ExecuteTime": {
     "end_time": "2019-07-04T13:27:46.633728Z",
     "start_time": "2019-07-04T13:27:46.584476Z"
    }
   },
   "outputs": [
    {
     "data": {
      "text/html": [
       "<div>\n",
       "<style scoped>\n",
       "    .dataframe tbody tr th:only-of-type {\n",
       "        vertical-align: middle;\n",
       "    }\n",
       "\n",
       "    .dataframe tbody tr th {\n",
       "        vertical-align: top;\n",
       "    }\n",
       "\n",
       "    .dataframe thead th {\n",
       "        text-align: right;\n",
       "    }\n",
       "</style>\n",
       "<table border=\"1\" class=\"dataframe\">\n",
       "  <thead>\n",
       "    <tr style=\"text-align: right;\">\n",
       "      <th></th>\n",
       "      <th>ID</th>\n",
       "      <th>title</th>\n",
       "      <th>year</th>\n",
       "      <th>rating</th>\n",
       "      <th>votes</th>\n",
       "      <th>duration</th>\n",
       "      <th>genres</th>\n",
       "    </tr>\n",
       "  </thead>\n",
       "  <tbody>\n",
       "    <tr>\n",
       "      <th>0</th>\n",
       "      <td>tt0111161</td>\n",
       "      <td>The Shawshank Redemption (1994)</td>\n",
       "      <td>1994</td>\n",
       "      <td>9.2</td>\n",
       "      <td>619479</td>\n",
       "      <td>142 mins.</td>\n",
       "      <td>Crime|Drama</td>\n",
       "    </tr>\n",
       "    <tr>\n",
       "      <th>1</th>\n",
       "      <td>tt0110912</td>\n",
       "      <td>Pulp Fiction (1994)</td>\n",
       "      <td>1994</td>\n",
       "      <td>9.0</td>\n",
       "      <td>490065</td>\n",
       "      <td>154 mins.</td>\n",
       "      <td>Crime|Thriller</td>\n",
       "    </tr>\n",
       "    <tr>\n",
       "      <th>2</th>\n",
       "      <td>tt0137523</td>\n",
       "      <td>Fight Club (1999)</td>\n",
       "      <td>1999</td>\n",
       "      <td>8.8</td>\n",
       "      <td>458173</td>\n",
       "      <td>139 mins.</td>\n",
       "      <td>Drama|Mystery|Thriller</td>\n",
       "    </tr>\n",
       "  </tbody>\n",
       "</table>\n",
       "</div>"
      ],
      "text/plain": [
       "          ID                            title  year  rating   votes  \\\n",
       "0  tt0111161  The Shawshank Redemption (1994)  1994     9.2  619479   \n",
       "1  tt0110912              Pulp Fiction (1994)  1994     9.0  490065   \n",
       "2  tt0137523                Fight Club (1999)  1999     8.8  458173   \n",
       "\n",
       "    duration                  genres  \n",
       "0  142 mins.             Crime|Drama  \n",
       "1  154 mins.          Crime|Thriller  \n",
       "2  139 mins.  Drama|Mystery|Thriller  "
      ]
     },
     "execution_count": 92,
     "metadata": {},
     "output_type": "execute_result"
    }
   ],
   "source": [
    "df.head(3)"
   ]
  },
  {
   "cell_type": "code",
   "execution_count": 93,
   "metadata": {
    "ExecuteTime": {
     "end_time": "2019-07-04T13:27:46.655842Z",
     "start_time": "2019-07-04T13:27:46.638917Z"
    }
   },
   "outputs": [
    {
     "data": {
      "text/plain": [
       "(ID           object\n",
       " title        object\n",
       " year          int64\n",
       " rating      float64\n",
       " votes         int64\n",
       " duration     object\n",
       " genres       object\n",
       " dtype: object, (10000, 7), 2)"
      ]
     },
     "execution_count": 93,
     "metadata": {},
     "output_type": "execute_result"
    }
   ],
   "source": [
    "df.dtypes, df.shape, df.ndim"
   ]
  },
  {
   "cell_type": "code",
   "execution_count": 94,
   "metadata": {
    "ExecuteTime": {
     "end_time": "2019-07-04T13:27:47.982581Z",
     "start_time": "2019-07-04T13:27:47.970981Z"
    }
   },
   "outputs": [],
   "source": [
    "df.set_index('ID', inplace = True)"
   ]
  },
  {
   "cell_type": "code",
   "execution_count": 95,
   "metadata": {
    "ExecuteTime": {
     "end_time": "2019-07-04T13:27:48.510708Z",
     "start_time": "2019-07-04T13:27:48.443995Z"
    }
   },
   "outputs": [
    {
     "data": {
      "text/html": [
       "<div>\n",
       "<style scoped>\n",
       "    .dataframe tbody tr th:only-of-type {\n",
       "        vertical-align: middle;\n",
       "    }\n",
       "\n",
       "    .dataframe tbody tr th {\n",
       "        vertical-align: top;\n",
       "    }\n",
       "\n",
       "    .dataframe thead th {\n",
       "        text-align: right;\n",
       "    }\n",
       "</style>\n",
       "<table border=\"1\" class=\"dataframe\">\n",
       "  <thead>\n",
       "    <tr style=\"text-align: right;\">\n",
       "      <th></th>\n",
       "      <th>title</th>\n",
       "      <th>year</th>\n",
       "      <th>rating</th>\n",
       "      <th>votes</th>\n",
       "      <th>duration</th>\n",
       "      <th>genres</th>\n",
       "    </tr>\n",
       "    <tr>\n",
       "      <th>ID</th>\n",
       "      <th></th>\n",
       "      <th></th>\n",
       "      <th></th>\n",
       "      <th></th>\n",
       "      <th></th>\n",
       "      <th></th>\n",
       "    </tr>\n",
       "  </thead>\n",
       "  <tbody>\n",
       "    <tr>\n",
       "      <th>tt0111161</th>\n",
       "      <td>The Shawshank Redemption (1994)</td>\n",
       "      <td>1994</td>\n",
       "      <td>9.2</td>\n",
       "      <td>619479</td>\n",
       "      <td>142 mins.</td>\n",
       "      <td>Crime|Drama</td>\n",
       "    </tr>\n",
       "    <tr>\n",
       "      <th>tt0110912</th>\n",
       "      <td>Pulp Fiction (1994)</td>\n",
       "      <td>1994</td>\n",
       "      <td>9.0</td>\n",
       "      <td>490065</td>\n",
       "      <td>154 mins.</td>\n",
       "      <td>Crime|Thriller</td>\n",
       "    </tr>\n",
       "    <tr>\n",
       "      <th>tt0137523</th>\n",
       "      <td>Fight Club (1999)</td>\n",
       "      <td>1999</td>\n",
       "      <td>8.8</td>\n",
       "      <td>458173</td>\n",
       "      <td>139 mins.</td>\n",
       "      <td>Drama|Mystery|Thriller</td>\n",
       "    </tr>\n",
       "    <tr>\n",
       "      <th>tt0133093</th>\n",
       "      <td>The Matrix (1999)</td>\n",
       "      <td>1999</td>\n",
       "      <td>8.7</td>\n",
       "      <td>448114</td>\n",
       "      <td>136 mins.</td>\n",
       "      <td>Action|Adventure|Sci-Fi</td>\n",
       "    </tr>\n",
       "    <tr>\n",
       "      <th>tt1375666</th>\n",
       "      <td>Inception (2010)</td>\n",
       "      <td>2010</td>\n",
       "      <td>8.9</td>\n",
       "      <td>385149</td>\n",
       "      <td>148 mins.</td>\n",
       "      <td>Action|Adventure|Sci-Fi|Thriller</td>\n",
       "    </tr>\n",
       "  </tbody>\n",
       "</table>\n",
       "</div>"
      ],
      "text/plain": [
       "                                     title  year  rating   votes   duration  \\\n",
       "ID                                                                            \n",
       "tt0111161  The Shawshank Redemption (1994)  1994     9.2  619479  142 mins.   \n",
       "tt0110912              Pulp Fiction (1994)  1994     9.0  490065  154 mins.   \n",
       "tt0137523                Fight Club (1999)  1999     8.8  458173  139 mins.   \n",
       "tt0133093                The Matrix (1999)  1999     8.7  448114  136 mins.   \n",
       "tt1375666                 Inception (2010)  2010     8.9  385149  148 mins.   \n",
       "\n",
       "                                     genres  \n",
       "ID                                           \n",
       "tt0111161                       Crime|Drama  \n",
       "tt0110912                    Crime|Thriller  \n",
       "tt0137523            Drama|Mystery|Thriller  \n",
       "tt0133093           Action|Adventure|Sci-Fi  \n",
       "tt1375666  Action|Adventure|Sci-Fi|Thriller  "
      ]
     },
     "execution_count": 95,
     "metadata": {},
     "output_type": "execute_result"
    }
   ],
   "source": [
    "df.head(5)"
   ]
  },
  {
   "cell_type": "code",
   "execution_count": 96,
   "metadata": {
    "ExecuteTime": {
     "end_time": "2019-07-04T13:27:48.963990Z",
     "start_time": "2019-07-04T13:27:48.939751Z"
    }
   },
   "outputs": [
    {
     "data": {
      "text/html": [
       "<div>\n",
       "<style scoped>\n",
       "    .dataframe tbody tr th:only-of-type {\n",
       "        vertical-align: middle;\n",
       "    }\n",
       "\n",
       "    .dataframe tbody tr th {\n",
       "        vertical-align: top;\n",
       "    }\n",
       "\n",
       "    .dataframe thead th {\n",
       "        text-align: right;\n",
       "    }\n",
       "</style>\n",
       "<table border=\"1\" class=\"dataframe\">\n",
       "  <thead>\n",
       "    <tr style=\"text-align: right;\">\n",
       "      <th></th>\n",
       "      <th>title</th>\n",
       "      <th>year</th>\n",
       "      <th>rating</th>\n",
       "      <th>votes</th>\n",
       "      <th>duration</th>\n",
       "      <th>genres</th>\n",
       "    </tr>\n",
       "    <tr>\n",
       "      <th>ID</th>\n",
       "      <th></th>\n",
       "      <th></th>\n",
       "      <th></th>\n",
       "      <th></th>\n",
       "      <th></th>\n",
       "      <th></th>\n",
       "    </tr>\n",
       "  </thead>\n",
       "  <tbody>\n",
       "    <tr>\n",
       "      <th>tt0101356</th>\n",
       "      <td>Another You (1991)</td>\n",
       "      <td>1991</td>\n",
       "      <td>4.9</td>\n",
       "      <td>1359</td>\n",
       "      <td>98 mins.</td>\n",
       "      <td>Comedy|Crime</td>\n",
       "    </tr>\n",
       "    <tr>\n",
       "      <th>tt0421090</th>\n",
       "      <td>Zerophilia (2005)</td>\n",
       "      <td>2005</td>\n",
       "      <td>6.3</td>\n",
       "      <td>1359</td>\n",
       "      <td>90 mins.</td>\n",
       "      <td>Comedy|Romance</td>\n",
       "    </tr>\n",
       "    <tr>\n",
       "      <th>tt0067227</th>\n",
       "      <td>The Merchant of Four Seasons (1971)</td>\n",
       "      <td>1971</td>\n",
       "      <td>7.6</td>\n",
       "      <td>1359</td>\n",
       "      <td>88 mins.</td>\n",
       "      <td>Drama</td>\n",
       "    </tr>\n",
       "    <tr>\n",
       "      <th>tt0339727</th>\n",
       "      <td>Stateside (2004)</td>\n",
       "      <td>2004</td>\n",
       "      <td>5.8</td>\n",
       "      <td>1358</td>\n",
       "      <td>97 mins.</td>\n",
       "      <td>Drama|Music|Romance</td>\n",
       "    </tr>\n",
       "    <tr>\n",
       "      <th>tt0218581</th>\n",
       "      <td>Scarlet Diva (2000)</td>\n",
       "      <td>2000</td>\n",
       "      <td>5.2</td>\n",
       "      <td>1358</td>\n",
       "      <td>91 mins.</td>\n",
       "      <td>Drama</td>\n",
       "    </tr>\n",
       "    <tr>\n",
       "      <th>tt0118635</th>\n",
       "      <td>Aprile (1998)</td>\n",
       "      <td>1998</td>\n",
       "      <td>6.7</td>\n",
       "      <td>1358</td>\n",
       "      <td>78 mins.</td>\n",
       "      <td>Comedy</td>\n",
       "    </tr>\n",
       "    <tr>\n",
       "      <th>tt0807721</th>\n",
       "      <td>Meduzot (2007)</td>\n",
       "      <td>2007</td>\n",
       "      <td>7.0</td>\n",
       "      <td>1357</td>\n",
       "      <td>78 mins.</td>\n",
       "      <td>Drama</td>\n",
       "    </tr>\n",
       "    <tr>\n",
       "      <th>tt0339642</th>\n",
       "      <td>Daltry Calhoun (2005)</td>\n",
       "      <td>2005</td>\n",
       "      <td>5.2</td>\n",
       "      <td>1357</td>\n",
       "      <td>100 mins.</td>\n",
       "      <td>Comedy|Drama|Music|Romance</td>\n",
       "    </tr>\n",
       "    <tr>\n",
       "      <th>tt0060880</th>\n",
       "      <td>The Quiller Memorandum (1966)</td>\n",
       "      <td>1966</td>\n",
       "      <td>6.5</td>\n",
       "      <td>1356</td>\n",
       "      <td>104 mins.</td>\n",
       "      <td>Drama|Mystery|Thriller</td>\n",
       "    </tr>\n",
       "    <tr>\n",
       "      <th>tt0152836</th>\n",
       "      <td>Taal (1999)</td>\n",
       "      <td>1999</td>\n",
       "      <td>6.5</td>\n",
       "      <td>1356</td>\n",
       "      <td>179 mins.</td>\n",
       "      <td>Musical|Romance</td>\n",
       "    </tr>\n",
       "    <tr>\n",
       "      <th>tt0279977</th>\n",
       "      <td>The Navigators (2001)</td>\n",
       "      <td>2001</td>\n",
       "      <td>6.9</td>\n",
       "      <td>1356</td>\n",
       "      <td>96 mins.</td>\n",
       "      <td>Comedy|Drama</td>\n",
       "    </tr>\n",
       "  </tbody>\n",
       "</table>\n",
       "</div>"
      ],
      "text/plain": [
       "                                         title  year  rating  votes  \\\n",
       "ID                                                                    \n",
       "tt0101356                   Another You (1991)  1991     4.9   1359   \n",
       "tt0421090                    Zerophilia (2005)  2005     6.3   1359   \n",
       "tt0067227  The Merchant of Four Seasons (1971)  1971     7.6   1359   \n",
       "tt0339727                     Stateside (2004)  2004     5.8   1358   \n",
       "tt0218581                  Scarlet Diva (2000)  2000     5.2   1358   \n",
       "tt0118635                        Aprile (1998)  1998     6.7   1358   \n",
       "tt0807721                       Meduzot (2007)  2007     7.0   1357   \n",
       "tt0339642                Daltry Calhoun (2005)  2005     5.2   1357   \n",
       "tt0060880        The Quiller Memorandum (1966)  1966     6.5   1356   \n",
       "tt0152836                          Taal (1999)  1999     6.5   1356   \n",
       "tt0279977                The Navigators (2001)  2001     6.9   1356   \n",
       "\n",
       "            duration                      genres  \n",
       "ID                                                \n",
       "tt0101356   98 mins.                Comedy|Crime  \n",
       "tt0421090   90 mins.              Comedy|Romance  \n",
       "tt0067227   88 mins.                       Drama  \n",
       "tt0339727   97 mins.         Drama|Music|Romance  \n",
       "tt0218581   91 mins.                       Drama  \n",
       "tt0118635   78 mins.                      Comedy  \n",
       "tt0807721   78 mins.                       Drama  \n",
       "tt0339642  100 mins.  Comedy|Drama|Music|Romance  \n",
       "tt0060880  104 mins.      Drama|Mystery|Thriller  \n",
       "tt0152836  179 mins.             Musical|Romance  \n",
       "tt0279977   96 mins.                Comedy|Drama  "
      ]
     },
     "execution_count": 96,
     "metadata": {},
     "output_type": "execute_result"
    }
   ],
   "source": [
    "df.tail(11)"
   ]
  },
  {
   "cell_type": "markdown",
   "metadata": {},
   "source": [
    "# Cleaning\n",
    "1. Drop all the missing rows which contain _any_ column with missing data\n",
    "2. Convert the `duration` column to numerical representation of seconds\n",
    "3. Remove the year from `title` column\n",
    "\n"
   ]
  },
  {
   "cell_type": "code",
   "execution_count": 97,
   "metadata": {
    "ExecuteTime": {
     "end_time": "2019-07-04T13:27:49.354042Z",
     "start_time": "2019-07-04T13:27:49.327936Z"
    }
   },
   "outputs": [
    {
     "data": {
      "text/plain": [
       "(9999, 6)"
      ]
     },
     "execution_count": 97,
     "metadata": {},
     "output_type": "execute_result"
    }
   ],
   "source": [
    "pd.isnull(df).sum()\n",
    "df[df.isnull().any(axis=1)]\n",
    "df.drop('tt0990404', inplace = True)\n",
    "df.shape"
   ]
  },
  {
   "cell_type": "code",
   "execution_count": 98,
   "metadata": {
    "ExecuteTime": {
     "end_time": "2019-07-04T13:27:49.751965Z",
     "start_time": "2019-07-04T13:27:49.736689Z"
    }
   },
   "outputs": [
    {
     "data": {
      "text/plain": [
       "title       0\n",
       "year        0\n",
       "rating      0\n",
       "votes       0\n",
       "duration    0\n",
       "genres      0\n",
       "dtype: int64"
      ]
     },
     "execution_count": 98,
     "metadata": {},
     "output_type": "execute_result"
    }
   ],
   "source": [
    "df.isnull().sum()"
   ]
  },
  {
   "cell_type": "code",
   "execution_count": 99,
   "metadata": {
    "ExecuteTime": {
     "end_time": "2019-07-04T13:27:50.241469Z",
     "start_time": "2019-07-04T13:27:50.188692Z"
    }
   },
   "outputs": [],
   "source": [
    "df['duration'] = df['duration'].str.replace('mins.','')\n",
    "df['duration'] = df['duration'].astype(int)\n",
    "df.loc[:,'duration'] = df['duration']*60\n",
    "df.rename(columns = {'duration' : 'duration (in seconds)'}, inplace = True)"
   ]
  },
  {
   "cell_type": "code",
   "execution_count": 100,
   "metadata": {
    "ExecuteTime": {
     "end_time": "2019-07-04T13:27:50.652298Z",
     "start_time": "2019-07-04T13:27:50.641139Z"
    }
   },
   "outputs": [
    {
     "data": {
      "text/plain": [
       "title                     object\n",
       "year                       int64\n",
       "rating                   float64\n",
       "votes                      int64\n",
       "duration (in seconds)      int64\n",
       "genres                    object\n",
       "dtype: object"
      ]
     },
     "execution_count": 100,
     "metadata": {},
     "output_type": "execute_result"
    }
   ],
   "source": [
    "df.dtypes"
   ]
  },
  {
   "cell_type": "code",
   "execution_count": 101,
   "metadata": {
    "ExecuteTime": {
     "end_time": "2019-07-04T13:27:51.070827Z",
     "start_time": "2019-07-04T13:27:51.011272Z"
    }
   },
   "outputs": [],
   "source": [
    "df['title'] = df['title'].str.replace('\\d+','')\n",
    "df['title'] = df['title'].str.replace('(','')\n",
    "df['title'] = df['title'].str.replace(')','')"
   ]
  },
  {
   "cell_type": "code",
   "execution_count": 102,
   "metadata": {
    "ExecuteTime": {
     "end_time": "2019-07-04T13:27:51.516095Z",
     "start_time": "2019-07-04T13:27:51.498816Z"
    }
   },
   "outputs": [
    {
     "data": {
      "text/html": [
       "<div>\n",
       "<style scoped>\n",
       "    .dataframe tbody tr th:only-of-type {\n",
       "        vertical-align: middle;\n",
       "    }\n",
       "\n",
       "    .dataframe tbody tr th {\n",
       "        vertical-align: top;\n",
       "    }\n",
       "\n",
       "    .dataframe thead th {\n",
       "        text-align: right;\n",
       "    }\n",
       "</style>\n",
       "<table border=\"1\" class=\"dataframe\">\n",
       "  <thead>\n",
       "    <tr style=\"text-align: right;\">\n",
       "      <th></th>\n",
       "      <th>title</th>\n",
       "      <th>year</th>\n",
       "      <th>rating</th>\n",
       "      <th>votes</th>\n",
       "      <th>duration (in seconds)</th>\n",
       "      <th>genres</th>\n",
       "    </tr>\n",
       "    <tr>\n",
       "      <th>ID</th>\n",
       "      <th></th>\n",
       "      <th></th>\n",
       "      <th></th>\n",
       "      <th></th>\n",
       "      <th></th>\n",
       "      <th></th>\n",
       "    </tr>\n",
       "  </thead>\n",
       "  <tbody>\n",
       "    <tr>\n",
       "      <th>tt0111161</th>\n",
       "      <td>The Shawshank Redemption</td>\n",
       "      <td>1994</td>\n",
       "      <td>9.2</td>\n",
       "      <td>619479</td>\n",
       "      <td>8520</td>\n",
       "      <td>Crime|Drama</td>\n",
       "    </tr>\n",
       "    <tr>\n",
       "      <th>tt0110912</th>\n",
       "      <td>Pulp Fiction</td>\n",
       "      <td>1994</td>\n",
       "      <td>9.0</td>\n",
       "      <td>490065</td>\n",
       "      <td>9240</td>\n",
       "      <td>Crime|Thriller</td>\n",
       "    </tr>\n",
       "    <tr>\n",
       "      <th>tt0137523</th>\n",
       "      <td>Fight Club</td>\n",
       "      <td>1999</td>\n",
       "      <td>8.8</td>\n",
       "      <td>458173</td>\n",
       "      <td>8340</td>\n",
       "      <td>Drama|Mystery|Thriller</td>\n",
       "    </tr>\n",
       "    <tr>\n",
       "      <th>tt0133093</th>\n",
       "      <td>The Matrix</td>\n",
       "      <td>1999</td>\n",
       "      <td>8.7</td>\n",
       "      <td>448114</td>\n",
       "      <td>8160</td>\n",
       "      <td>Action|Adventure|Sci-Fi</td>\n",
       "    </tr>\n",
       "    <tr>\n",
       "      <th>tt1375666</th>\n",
       "      <td>Inception</td>\n",
       "      <td>2010</td>\n",
       "      <td>8.9</td>\n",
       "      <td>385149</td>\n",
       "      <td>8880</td>\n",
       "      <td>Action|Adventure|Sci-Fi|Thriller</td>\n",
       "    </tr>\n",
       "  </tbody>\n",
       "</table>\n",
       "</div>"
      ],
      "text/plain": [
       "                               title  year  rating   votes  \\\n",
       "ID                                                           \n",
       "tt0111161  The Shawshank Redemption   1994     9.2  619479   \n",
       "tt0110912              Pulp Fiction   1994     9.0  490065   \n",
       "tt0137523                Fight Club   1999     8.8  458173   \n",
       "tt0133093                The Matrix   1999     8.7  448114   \n",
       "tt1375666                 Inception   2010     8.9  385149   \n",
       "\n",
       "           duration (in seconds)                            genres  \n",
       "ID                                                                  \n",
       "tt0111161                   8520                       Crime|Drama  \n",
       "tt0110912                   9240                    Crime|Thriller  \n",
       "tt0137523                   8340            Drama|Mystery|Thriller  \n",
       "tt0133093                   8160           Action|Adventure|Sci-Fi  \n",
       "tt1375666                   8880  Action|Adventure|Sci-Fi|Thriller  "
      ]
     },
     "execution_count": 102,
     "metadata": {},
     "output_type": "execute_result"
    }
   ],
   "source": [
    "df.head()"
   ]
  },
  {
   "cell_type": "markdown",
   "metadata": {},
   "source": []
  },
  {
   "cell_type": "markdown",
   "metadata": {},
   "source": [
    "# Concatenating\n",
    "\n",
    "1. Read `crew_data.tsv.gz` to DataFrame named `movie_crew_df` with columns `ID, director_ids` indexed by `ID` (forget the rest of the columns)\n",
    "2. Read `name_data.tsv.gz` to DataFrame named `person_df` with columns `person_ID, name` indexed by `person_ID` (forget the rest of the columns)\n",
    "3. Merge `movie_crew_df` into `df` with `ID`s and drop the columns without necessary data (hint `outer`-join)\n",
    "4. Remove movies with more than one director and rename `director_ids` => `director_id`\n",
    "5. Merge `df` with `person_df` on `director_id`, remove `director_id` and `person_ID` columns, rename `name` => `director`\n"
   ]
  },
  {
   "cell_type": "code",
   "execution_count": 103,
   "metadata": {
    "ExecuteTime": {
     "end_time": "2019-07-04T13:28:13.404645Z",
     "start_time": "2019-07-04T13:27:51.956592Z"
    }
   },
   "outputs": [
    {
     "data": {
      "text/html": [
       "<div>\n",
       "<style scoped>\n",
       "    .dataframe tbody tr th:only-of-type {\n",
       "        vertical-align: middle;\n",
       "    }\n",
       "\n",
       "    .dataframe tbody tr th {\n",
       "        vertical-align: top;\n",
       "    }\n",
       "\n",
       "    .dataframe thead th {\n",
       "        text-align: right;\n",
       "    }\n",
       "</style>\n",
       "<table border=\"1\" class=\"dataframe\">\n",
       "  <thead>\n",
       "    <tr style=\"text-align: right;\">\n",
       "      <th></th>\n",
       "      <th>director_ids</th>\n",
       "    </tr>\n",
       "    <tr>\n",
       "      <th>ID</th>\n",
       "      <th></th>\n",
       "    </tr>\n",
       "  </thead>\n",
       "  <tbody>\n",
       "    <tr>\n",
       "      <th>tt0000001</th>\n",
       "      <td>nm0005690</td>\n",
       "    </tr>\n",
       "    <tr>\n",
       "      <th>tt0000002</th>\n",
       "      <td>nm0721526</td>\n",
       "    </tr>\n",
       "  </tbody>\n",
       "</table>\n",
       "</div>"
      ],
      "text/plain": [
       "          director_ids\n",
       "ID                    \n",
       "tt0000001    nm0005690\n",
       "tt0000002    nm0721526"
      ]
     },
     "execution_count": 103,
     "metadata": {},
     "output_type": "execute_result"
    }
   ],
   "source": [
    "movie_crew_df = pd.read_csv(gzip.open('crew_data.tsv.gz'), sep = '\\t')\n",
    "movie_crew_df.drop('writers', axis = 1, inplace = True)\n",
    "movie_crew_df.columns.values[0] = \"ID\"\n",
    "movie_crew_df.rename(columns = {'directors' : 'director_ids'}, inplace = True)\n",
    "movie_crew_df.set_index('ID', inplace = True)\n",
    "movie_crew_df.head(2)"
   ]
  },
  {
   "cell_type": "code",
   "execution_count": 104,
   "metadata": {
    "ExecuteTime": {
     "end_time": "2019-07-04T13:29:44.063464Z",
     "start_time": "2019-07-04T13:28:14.173098Z"
    }
   },
   "outputs": [
    {
     "data": {
      "text/html": [
       "<div>\n",
       "<style scoped>\n",
       "    .dataframe tbody tr th:only-of-type {\n",
       "        vertical-align: middle;\n",
       "    }\n",
       "\n",
       "    .dataframe tbody tr th {\n",
       "        vertical-align: top;\n",
       "    }\n",
       "\n",
       "    .dataframe thead th {\n",
       "        text-align: right;\n",
       "    }\n",
       "</style>\n",
       "<table border=\"1\" class=\"dataframe\">\n",
       "  <thead>\n",
       "    <tr style=\"text-align: right;\">\n",
       "      <th></th>\n",
       "      <th>name</th>\n",
       "    </tr>\n",
       "    <tr>\n",
       "      <th>person_ID</th>\n",
       "      <th></th>\n",
       "    </tr>\n",
       "  </thead>\n",
       "  <tbody>\n",
       "    <tr>\n",
       "      <th>nm0000001</th>\n",
       "      <td>Fred Astaire</td>\n",
       "    </tr>\n",
       "    <tr>\n",
       "      <th>nm0000002</th>\n",
       "      <td>Lauren Bacall</td>\n",
       "    </tr>\n",
       "  </tbody>\n",
       "</table>\n",
       "</div>"
      ],
      "text/plain": [
       "                    name\n",
       "person_ID               \n",
       "nm0000001   Fred Astaire\n",
       "nm0000002  Lauren Bacall"
      ]
     },
     "execution_count": 104,
     "metadata": {},
     "output_type": "execute_result"
    }
   ],
   "source": [
    "person_df = pd.read_csv(gzip.open('name_data.tsv.gz'), sep = '\\t')\n",
    "person_df = person_df.filter(['nconst','primaryName'], axis = 1)\n",
    "person_df.rename(columns = {'nconst': 'person_ID', 'primaryName' : 'name'}, inplace = True)\n",
    "person_df.set_index('person_ID', inplace = True)\n",
    "person_df.head(2)"
   ]
  },
  {
   "cell_type": "code",
   "execution_count": 105,
   "metadata": {
    "ExecuteTime": {
     "end_time": "2019-07-04T13:30:20.128616Z",
     "start_time": "2019-07-04T13:29:44.732577Z"
    }
   },
   "outputs": [],
   "source": [
    "result = pd.merge(df[['title', 'year']], movie_crew_df, on = 'ID', how = 'outer') "
   ]
  },
  {
   "cell_type": "code",
   "execution_count": 106,
   "metadata": {
    "ExecuteTime": {
     "end_time": "2019-07-04T13:30:44.293325Z",
     "start_time": "2019-07-04T13:30:20.829840Z"
    }
   },
   "outputs": [
    {
     "data": {
      "text/html": [
       "<div>\n",
       "<style scoped>\n",
       "    .dataframe tbody tr th:only-of-type {\n",
       "        vertical-align: middle;\n",
       "    }\n",
       "\n",
       "    .dataframe tbody tr th {\n",
       "        vertical-align: top;\n",
       "    }\n",
       "\n",
       "    .dataframe thead th {\n",
       "        text-align: right;\n",
       "    }\n",
       "</style>\n",
       "<table border=\"1\" class=\"dataframe\">\n",
       "  <thead>\n",
       "    <tr style=\"text-align: right;\">\n",
       "      <th></th>\n",
       "      <th>title</th>\n",
       "      <th>year</th>\n",
       "      <th>director_id</th>\n",
       "    </tr>\n",
       "    <tr>\n",
       "      <th>ID</th>\n",
       "      <th></th>\n",
       "      <th></th>\n",
       "      <th></th>\n",
       "    </tr>\n",
       "  </thead>\n",
       "  <tbody>\n",
       "    <tr>\n",
       "      <th>tt0111161</th>\n",
       "      <td>The Shawshank Redemption</td>\n",
       "      <td>1994.0</td>\n",
       "      <td>nm0001104</td>\n",
       "    </tr>\n",
       "    <tr>\n",
       "      <th>tt0110912</th>\n",
       "      <td>Pulp Fiction</td>\n",
       "      <td>1994.0</td>\n",
       "      <td>nm0000233</td>\n",
       "    </tr>\n",
       "    <tr>\n",
       "      <th>tt0137523</th>\n",
       "      <td>Fight Club</td>\n",
       "      <td>1999.0</td>\n",
       "      <td>nm0000399</td>\n",
       "    </tr>\n",
       "  </tbody>\n",
       "</table>\n",
       "</div>"
      ],
      "text/plain": [
       "                               title    year director_id\n",
       "ID                                                      \n",
       "tt0111161  The Shawshank Redemption   1994.0   nm0001104\n",
       "tt0110912              Pulp Fiction   1994.0   nm0000233\n",
       "tt0137523                Fight Club   1999.0   nm0000399"
      ]
     },
     "execution_count": 106,
     "metadata": {},
     "output_type": "execute_result"
    }
   ],
   "source": [
    "result = result[result['director_ids'].str.len().lt(10)]  \n",
    "result.rename(columns = {'director_ids' : 'director_id'}, inplace = True)\n",
    "result.head(3)"
   ]
  },
  {
   "cell_type": "markdown",
   "metadata": {
    "ExecuteTime": {
     "end_time": "2019-07-04T12:37:03.618316Z",
     "start_time": "2019-07-04T12:37:03.550151Z"
    }
   },
   "source": [
    "Merge df with person_df on director_id, remove director_id and person_ID columns, rename name => director\n",
    "\n",
    "-- what is this director_id ??"
   ]
  },
  {
   "cell_type": "markdown",
   "metadata": {},
   "source": [
    "# Exploration\n",
    "\n",
    "1. Find ten most longest movies\n",
    "2. Find Best rated movies ordered by rating DESC and Title ASC\n",
    "3. What is the average duration (in minutes) of a movie?\n",
    "4. Get ten most productive directors\n",
    "5. How many movie has been made in the 2000's?\n",
    "6. Get all the movies directed by Akira Kurosawa ordered by year DESC\n"
   ]
  },
  {
   "cell_type": "code",
   "execution_count": 107,
   "metadata": {
    "ExecuteTime": {
     "end_time": "2019-07-04T13:30:44.995118Z",
     "start_time": "2019-07-04T13:30:44.945430Z"
    }
   },
   "outputs": [
    {
     "data": {
      "text/html": [
       "<div>\n",
       "<style scoped>\n",
       "    .dataframe tbody tr th:only-of-type {\n",
       "        vertical-align: middle;\n",
       "    }\n",
       "\n",
       "    .dataframe tbody tr th {\n",
       "        vertical-align: top;\n",
       "    }\n",
       "\n",
       "    .dataframe thead th {\n",
       "        text-align: right;\n",
       "    }\n",
       "</style>\n",
       "<table border=\"1\" class=\"dataframe\">\n",
       "  <thead>\n",
       "    <tr style=\"text-align: right;\">\n",
       "      <th></th>\n",
       "      <th>title</th>\n",
       "      <th>year</th>\n",
       "      <th>rating</th>\n",
       "      <th>votes</th>\n",
       "      <th>duration (in seconds)</th>\n",
       "      <th>genres</th>\n",
       "    </tr>\n",
       "    <tr>\n",
       "      <th>ID</th>\n",
       "      <th></th>\n",
       "      <th></th>\n",
       "      <th></th>\n",
       "      <th></th>\n",
       "      <th></th>\n",
       "      <th></th>\n",
       "    </tr>\n",
       "  </thead>\n",
       "  <tbody>\n",
       "    <tr>\n",
       "      <th>tt0111341</th>\n",
       "      <td>Satantango</td>\n",
       "      <td>1994</td>\n",
       "      <td>8.5</td>\n",
       "      <td>2698</td>\n",
       "      <td>27000</td>\n",
       "      <td>Comedy|Drama|Mystery</td>\n",
       "    </tr>\n",
       "  </tbody>\n",
       "</table>\n",
       "</div>"
      ],
      "text/plain": [
       "                 title  year  rating  votes  duration (in seconds)  \\\n",
       "ID                                                                   \n",
       "tt0111341  Satantango   1994     8.5   2698                  27000   \n",
       "\n",
       "                         genres  \n",
       "ID                               \n",
       "tt0111341  Comedy|Drama|Mystery  "
      ]
     },
     "execution_count": 107,
     "metadata": {},
     "output_type": "execute_result"
    }
   ],
   "source": [
    "## most longest movie\n",
    "df[df['duration (in seconds)']==df['duration (in seconds)'].max()]"
   ]
  },
  {
   "cell_type": "code",
   "execution_count": 108,
   "metadata": {
    "ExecuteTime": {
     "end_time": "2019-07-04T13:30:45.854739Z",
     "start_time": "2019-07-04T13:30:45.750513Z"
    }
   },
   "outputs": [],
   "source": [
    "# Sorting as rating(descending) first and then with title(ascending)\n",
    "df.sort_values(by = ['rating' , 'title'], ascending = [False, True], inplace = True)"
   ]
  },
  {
   "cell_type": "code",
   "execution_count": 109,
   "metadata": {
    "ExecuteTime": {
     "end_time": "2019-07-04T13:30:46.179536Z",
     "start_time": "2019-07-04T13:30:46.147725Z"
    },
    "scrolled": true
   },
   "outputs": [
    {
     "data": {
      "text/html": [
       "<div>\n",
       "<style scoped>\n",
       "    .dataframe tbody tr th:only-of-type {\n",
       "        vertical-align: middle;\n",
       "    }\n",
       "\n",
       "    .dataframe tbody tr th {\n",
       "        vertical-align: top;\n",
       "    }\n",
       "\n",
       "    .dataframe thead th {\n",
       "        text-align: right;\n",
       "    }\n",
       "</style>\n",
       "<table border=\"1\" class=\"dataframe\">\n",
       "  <thead>\n",
       "    <tr style=\"text-align: right;\">\n",
       "      <th></th>\n",
       "      <th>title</th>\n",
       "      <th>year</th>\n",
       "      <th>rating</th>\n",
       "      <th>votes</th>\n",
       "      <th>duration (in seconds)</th>\n",
       "      <th>genres</th>\n",
       "    </tr>\n",
       "    <tr>\n",
       "      <th>ID</th>\n",
       "      <th></th>\n",
       "      <th></th>\n",
       "      <th></th>\n",
       "      <th></th>\n",
       "      <th></th>\n",
       "      <th></th>\n",
       "    </tr>\n",
       "  </thead>\n",
       "  <tbody>\n",
       "    <tr>\n",
       "      <th>tt0068646</th>\n",
       "      <td>The Godfather</td>\n",
       "      <td>1972</td>\n",
       "      <td>9.2</td>\n",
       "      <td>474189</td>\n",
       "      <td>10500</td>\n",
       "      <td>Crime|Drama</td>\n",
       "    </tr>\n",
       "    <tr>\n",
       "      <th>tt0111161</th>\n",
       "      <td>The Shawshank Redemption</td>\n",
       "      <td>1994</td>\n",
       "      <td>9.2</td>\n",
       "      <td>619479</td>\n",
       "      <td>8520</td>\n",
       "      <td>Crime|Drama</td>\n",
       "    </tr>\n",
       "    <tr>\n",
       "      <th>tt0252487</th>\n",
       "      <td>Outrageous Class</td>\n",
       "      <td>1975</td>\n",
       "      <td>9.0</td>\n",
       "      <td>9823</td>\n",
       "      <td>5220</td>\n",
       "      <td>Comedy|Drama</td>\n",
       "    </tr>\n",
       "    <tr>\n",
       "      <th>tt0110912</th>\n",
       "      <td>Pulp Fiction</td>\n",
       "      <td>1994</td>\n",
       "      <td>9.0</td>\n",
       "      <td>490065</td>\n",
       "      <td>9240</td>\n",
       "      <td>Crime|Thriller</td>\n",
       "    </tr>\n",
       "    <tr>\n",
       "      <th>tt0071562</th>\n",
       "      <td>The Godfather: Part II</td>\n",
       "      <td>1974</td>\n",
       "      <td>9.0</td>\n",
       "      <td>291169</td>\n",
       "      <td>12000</td>\n",
       "      <td>Crime|Drama</td>\n",
       "    </tr>\n",
       "    <tr>\n",
       "      <th>tt0060196</th>\n",
       "      <td>The Good, the Bad and the Ugly</td>\n",
       "      <td>1966</td>\n",
       "      <td>9.0</td>\n",
       "      <td>195238</td>\n",
       "      <td>9660</td>\n",
       "      <td>Western</td>\n",
       "    </tr>\n",
       "    <tr>\n",
       "      <th>tt0050083</th>\n",
       "      <td>Angry Men</td>\n",
       "      <td>1957</td>\n",
       "      <td>8.9</td>\n",
       "      <td>148155</td>\n",
       "      <td>5760</td>\n",
       "      <td>Drama|Mystery</td>\n",
       "    </tr>\n",
       "    <tr>\n",
       "      <th>tt1375666</th>\n",
       "      <td>Inception</td>\n",
       "      <td>2010</td>\n",
       "      <td>8.9</td>\n",
       "      <td>385149</td>\n",
       "      <td>8880</td>\n",
       "      <td>Action|Adventure|Sci-Fi|Thriller</td>\n",
       "    </tr>\n",
       "    <tr>\n",
       "      <th>tt0073486</th>\n",
       "      <td>One Flew Over the Cuckoo's Nest</td>\n",
       "      <td>1975</td>\n",
       "      <td>8.9</td>\n",
       "      <td>255503</td>\n",
       "      <td>7980</td>\n",
       "      <td>Drama</td>\n",
       "    </tr>\n",
       "    <tr>\n",
       "      <th>tt0108052</th>\n",
       "      <td>Schindler's List</td>\n",
       "      <td>1993</td>\n",
       "      <td>8.9</td>\n",
       "      <td>325888</td>\n",
       "      <td>11700</td>\n",
       "      <td>Biography|Drama|History|War</td>\n",
       "    </tr>\n",
       "  </tbody>\n",
       "</table>\n",
       "</div>"
      ],
      "text/plain": [
       "                                      title  year  rating   votes  \\\n",
       "ID                                                                  \n",
       "tt0068646                    The Godfather   1972     9.2  474189   \n",
       "tt0111161         The Shawshank Redemption   1994     9.2  619479   \n",
       "tt0252487                 Outrageous Class   1975     9.0    9823   \n",
       "tt0110912                     Pulp Fiction   1994     9.0  490065   \n",
       "tt0071562           The Godfather: Part II   1974     9.0  291169   \n",
       "tt0060196   The Good, the Bad and the Ugly   1966     9.0  195238   \n",
       "tt0050083                        Angry Men   1957     8.9  148155   \n",
       "tt1375666                        Inception   2010     8.9  385149   \n",
       "tt0073486  One Flew Over the Cuckoo's Nest   1975     8.9  255503   \n",
       "tt0108052                 Schindler's List   1993     8.9  325888   \n",
       "\n",
       "           duration (in seconds)                            genres  \n",
       "ID                                                                  \n",
       "tt0068646                  10500                       Crime|Drama  \n",
       "tt0111161                   8520                       Crime|Drama  \n",
       "tt0252487                   5220                      Comedy|Drama  \n",
       "tt0110912                   9240                    Crime|Thriller  \n",
       "tt0071562                  12000                       Crime|Drama  \n",
       "tt0060196                   9660                           Western  \n",
       "tt0050083                   5760                     Drama|Mystery  \n",
       "tt1375666                   8880  Action|Adventure|Sci-Fi|Thriller  \n",
       "tt0073486                   7980                             Drama  \n",
       "tt0108052                  11700       Biography|Drama|History|War  "
      ]
     },
     "execution_count": 109,
     "metadata": {},
     "output_type": "execute_result"
    }
   ],
   "source": [
    "## if the productivity of directors are based on rating following is the list.\n",
    "df.head(10)"
   ]
  },
  {
   "cell_type": "code",
   "execution_count": 110,
   "metadata": {
    "ExecuteTime": {
     "end_time": "2019-07-04T13:30:46.516465Z",
     "start_time": "2019-07-04T13:30:46.476823Z"
    }
   },
   "outputs": [
    {
     "data": {
      "text/plain": [
       "6214.821482148215"
      ]
     },
     "execution_count": 110,
     "metadata": {},
     "output_type": "execute_result"
    }
   ],
   "source": [
    "## average duration in movies\n",
    "df['duration (in seconds)'].mean()"
   ]
  },
  {
   "cell_type": "code",
   "execution_count": 119,
   "metadata": {
    "ExecuteTime": {
     "end_time": "2019-07-04T13:36:35.444439Z",
     "start_time": "2019-07-04T13:36:35.327872Z"
    }
   },
   "outputs": [
    {
     "data": {
      "text/html": [
       "<div>\n",
       "<style scoped>\n",
       "    .dataframe tbody tr th:only-of-type {\n",
       "        vertical-align: middle;\n",
       "    }\n",
       "\n",
       "    .dataframe tbody tr th {\n",
       "        vertical-align: top;\n",
       "    }\n",
       "\n",
       "    .dataframe thead th {\n",
       "        text-align: right;\n",
       "    }\n",
       "</style>\n",
       "<table border=\"1\" class=\"dataframe\">\n",
       "  <thead>\n",
       "    <tr style=\"text-align: right;\">\n",
       "      <th></th>\n",
       "      <th>title</th>\n",
       "      <th>year</th>\n",
       "      <th>rating</th>\n",
       "      <th>votes</th>\n",
       "      <th>duration (in seconds)</th>\n",
       "      <th>genres</th>\n",
       "    </tr>\n",
       "    <tr>\n",
       "      <th>ID</th>\n",
       "      <th></th>\n",
       "      <th></th>\n",
       "      <th></th>\n",
       "      <th></th>\n",
       "      <th></th>\n",
       "      <th></th>\n",
       "    </tr>\n",
       "  </thead>\n",
       "  <tbody>\n",
       "    <tr>\n",
       "      <th>tt0068646</th>\n",
       "      <td>The Godfather</td>\n",
       "      <td>1972</td>\n",
       "      <td>9.2</td>\n",
       "      <td>474189</td>\n",
       "      <td>10500</td>\n",
       "      <td>Crime|Drama</td>\n",
       "    </tr>\n",
       "    <tr>\n",
       "      <th>tt0111161</th>\n",
       "      <td>The Shawshank Redemption</td>\n",
       "      <td>1994</td>\n",
       "      <td>9.2</td>\n",
       "      <td>619479</td>\n",
       "      <td>8520</td>\n",
       "      <td>Crime|Drama</td>\n",
       "    </tr>\n",
       "  </tbody>\n",
       "</table>\n",
       "</div>"
      ],
      "text/plain": [
       "                               title  year  rating   votes  \\\n",
       "ID                                                           \n",
       "tt0068646             The Godfather   1972     9.2  474189   \n",
       "tt0111161  The Shawshank Redemption   1994     9.2  619479   \n",
       "\n",
       "           duration (in seconds)       genres  \n",
       "ID                                             \n",
       "tt0068646                  10500  Crime|Drama  \n",
       "tt0111161                   8520  Crime|Drama  "
      ]
     },
     "execution_count": 119,
     "metadata": {},
     "output_type": "execute_result"
    }
   ],
   "source": [
    "df.head(2)"
   ]
  },
  {
   "cell_type": "code",
   "execution_count": 125,
   "metadata": {
    "ExecuteTime": {
     "end_time": "2019-07-04T13:40:10.369417Z",
     "start_time": "2019-07-04T13:40:10.325672Z"
    }
   },
   "outputs": [
    {
     "data": {
      "text/plain": [
       "title                    4586\n",
       "year                     4586\n",
       "rating                   4586\n",
       "votes                    4586\n",
       "duration (in seconds)    4586\n",
       "genres                   4586\n",
       "dtype: int64"
      ]
     },
     "execution_count": 125,
     "metadata": {},
     "output_type": "execute_result"
    }
   ],
   "source": [
    "ans = df[df['year'] > 1999].count()\n",
    "ans"
   ]
  },
  {
   "cell_type": "code",
   "execution_count": 129,
   "metadata": {
    "ExecuteTime": {
     "end_time": "2019-07-04T13:50:05.169552Z",
     "start_time": "2019-07-04T13:48:09.455651Z"
    }
   },
   "outputs": [
    {
     "data": {
      "text/html": [
       "<div>\n",
       "<style scoped>\n",
       "    .dataframe tbody tr th:only-of-type {\n",
       "        vertical-align: middle;\n",
       "    }\n",
       "\n",
       "    .dataframe tbody tr th {\n",
       "        vertical-align: top;\n",
       "    }\n",
       "\n",
       "    .dataframe thead th {\n",
       "        text-align: right;\n",
       "    }\n",
       "</style>\n",
       "<table border=\"1\" class=\"dataframe\">\n",
       "  <thead>\n",
       "    <tr style=\"text-align: right;\">\n",
       "      <th></th>\n",
       "      <th>nconst</th>\n",
       "      <th>primaryName</th>\n",
       "      <th>birthYear</th>\n",
       "      <th>deathYear</th>\n",
       "      <th>primaryProfession</th>\n",
       "      <th>knownForTitles</th>\n",
       "    </tr>\n",
       "  </thead>\n",
       "  <tbody>\n",
       "    <tr>\n",
       "      <th>0</th>\n",
       "      <td>nm0000001</td>\n",
       "      <td>Fred Astaire</td>\n",
       "      <td>1899</td>\n",
       "      <td>1987</td>\n",
       "      <td>soundtrack,actor,miscellaneous</td>\n",
       "      <td>tt0050419,tt0053137,tt0043044,tt0072308</td>\n",
       "    </tr>\n",
       "    <tr>\n",
       "      <th>1</th>\n",
       "      <td>nm0000002</td>\n",
       "      <td>Lauren Bacall</td>\n",
       "      <td>1924</td>\n",
       "      <td>2014</td>\n",
       "      <td>actress,soundtrack</td>\n",
       "      <td>tt0038355,tt0117057,tt0037382,tt0071877</td>\n",
       "    </tr>\n",
       "    <tr>\n",
       "      <th>2</th>\n",
       "      <td>nm0000003</td>\n",
       "      <td>Brigitte Bardot</td>\n",
       "      <td>1934</td>\n",
       "      <td>\\N</td>\n",
       "      <td>actress,soundtrack,producer</td>\n",
       "      <td>tt0059956,tt0057345,tt0049189,tt0054452</td>\n",
       "    </tr>\n",
       "    <tr>\n",
       "      <th>3</th>\n",
       "      <td>nm0000004</td>\n",
       "      <td>John Belushi</td>\n",
       "      <td>1949</td>\n",
       "      <td>1982</td>\n",
       "      <td>actor,writer,soundtrack</td>\n",
       "      <td>tt0080455,tt0072562,tt0077975,tt0078723</td>\n",
       "    </tr>\n",
       "    <tr>\n",
       "      <th>4</th>\n",
       "      <td>nm0000005</td>\n",
       "      <td>Ingmar Bergman</td>\n",
       "      <td>1918</td>\n",
       "      <td>2007</td>\n",
       "      <td>writer,director,actor</td>\n",
       "      <td>tt0069467,tt0050986,tt0050976,tt0083922</td>\n",
       "    </tr>\n",
       "  </tbody>\n",
       "</table>\n",
       "</div>"
      ],
      "text/plain": [
       "      nconst      primaryName birthYear deathYear  \\\n",
       "0  nm0000001     Fred Astaire      1899      1987   \n",
       "1  nm0000002    Lauren Bacall      1924      2014   \n",
       "2  nm0000003  Brigitte Bardot      1934        \\N   \n",
       "3  nm0000004     John Belushi      1949      1982   \n",
       "4  nm0000005   Ingmar Bergman      1918      2007   \n",
       "\n",
       "                primaryProfession                           knownForTitles  \n",
       "0  soundtrack,actor,miscellaneous  tt0050419,tt0053137,tt0043044,tt0072308  \n",
       "1              actress,soundtrack  tt0038355,tt0117057,tt0037382,tt0071877  \n",
       "2     actress,soundtrack,producer  tt0059956,tt0057345,tt0049189,tt0054452  \n",
       "3         actor,writer,soundtrack  tt0080455,tt0072562,tt0077975,tt0078723  \n",
       "4           writer,director,actor  tt0069467,tt0050986,tt0050976,tt0083922  "
      ]
     },
     "execution_count": 129,
     "metadata": {},
     "output_type": "execute_result"
    }
   ],
   "source": [
    "a = pd.read_csv(gzip.open('name_data.tsv.gz'), sep = '\\t')\n",
    "a.head()"
   ]
  },
  {
   "cell_type": "markdown",
   "metadata": {},
   "source": []
  }
 ],
 "metadata": {
  "kernelspec": {
   "display_name": "Python 3",
   "language": "python",
   "name": "python3"
  },
  "language_info": {
   "codemirror_mode": {
    "name": "ipython",
    "version": 3
   },
   "file_extension": ".py",
   "mimetype": "text/x-python",
   "name": "python",
   "nbconvert_exporter": "python",
   "pygments_lexer": "ipython3",
   "version": "3.7.2"
  },
  "toc": {
   "base_numbering": 1,
   "nav_menu": {},
   "number_sections": true,
   "sideBar": true,
   "skip_h1_title": false,
   "title_cell": "Table of Contents",
   "title_sidebar": "Contents",
   "toc_cell": false,
   "toc_position": {},
   "toc_section_display": true,
   "toc_window_display": false
  },
  "varInspector": {
   "cols": {
    "lenName": 16,
    "lenType": 16,
    "lenVar": 40
   },
   "kernels_config": {
    "python": {
     "delete_cmd_postfix": "",
     "delete_cmd_prefix": "del ",
     "library": "var_list.py",
     "varRefreshCmd": "print(var_dic_list())"
    },
    "r": {
     "delete_cmd_postfix": ") ",
     "delete_cmd_prefix": "rm(",
     "library": "var_list.r",
     "varRefreshCmd": "cat(var_dic_list()) "
    }
   },
   "types_to_exclude": [
    "module",
    "function",
    "builtin_function_or_method",
    "instance",
    "_Feature"
   ],
   "window_display": false
  }
 },
 "nbformat": 4,
 "nbformat_minor": 2
}
