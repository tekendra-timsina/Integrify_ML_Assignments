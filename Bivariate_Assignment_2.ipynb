{
 "cells": [
  {
   "cell_type": "markdown",
   "metadata": {
    "ExecuteTime": {
     "end_time": "2019-09-02T12:46:03.479732Z",
     "start_time": "2019-09-02T12:46:03.400575Z"
    }
   },
   "source": [
    "Q1.\n",
    "Explain in your own words what effect does the choice of Covariance matrix have on theBivariate Gaussian (compare spherical, elliptical). What does it mean when the covariancematrix is not diagonal?\n",
    "\n",
    "When the covariance matrix is the identity matrix, the diagonal values are 1, indicating the data have variance of 1 along both of the dimensions whereas off-diagonal elements are zero, meaning that the two dimensions are uncorrelated. The data are distributed in a sphere about origin in such covariance matrix. \n",
    "When the covariance matrix is the diagonal matrix,  the off-diagonal elements are still zero, indicating that the dimensions are uncorrelated. The data are distributed in an elliptical form along one dimension in such covariance matrix. \n",
    "When the covariance matrix is the non-diagonal matrix,  the off-diagonal elements are non-zero and hence the dimensions are correlated. The data in  this type of covariance matrix are also distributed in an elliptical form but not in only one dimension, instead  a linear combination of the dimensions. \n",
    "\n",
    "Q2.\n",
    "Do the linear transformation.\n",
    "\\begin{equation}\n",
    "\\begin{aligned} \\mu_{Y} &=\\mathbb{E}[Y]=\\mathbb{E}[L X+u]=\\mathbb{E}[L X]+u=L \\mu_{X}+u \\\\ \\Sigma_{Y} &=\\mathbb{E}\\left[\\left(Y-\\mu_{Y}\\right)\\left(Y-\\mu_{Y}\\right)^{\\top}\\right] \\\\ &=\\mathbb{E}\\left[\\left(L X+u-L \\mu_{X}-u\\right)\\left(L X+u-L \\mu_{X}-u\\right)^{\\top}\\right] \\\\ &=\\mathbb{E}\\left[\\left(L\\left(X-\\mu_{X}\\right)\\right)\\left(L\\left(X-\\mu_{X}\\right)\\right)^{\\top}\\right] \\\\ &=\\mathbb{E}\\left[L\\left(X-\\mu_{X}\\right)\\left(X-\\mu_{X}\\right)^{\\top} L^{\\top}\\right] \\\\ &=L \\mathbb{E}\\left[\\left(X-\\mu_{X}\\right)\\left(X-\\mu_{X}\\right)^{\\top}\\right] L^{\\top} \\\\ &=L \\Sigma_{X} L^{\\top} \\end{aligned}\n",
    "\\end{equation}\n",
    "\n",
    "Q3.\n",
    "What is the meaning of Mahalanobis distance? What is the relation of this to the eigenvalues of the Covariance matrix? Draw a sketch either in Python or by hand for the Bivariate case (K=2)\n",
    "Mahalanobis distance is a multivariate distance metric that measures the distance between a point and a distribution. Following are the properties of Mahalanobis distance.\n",
    "\n",
    "    • It accounts for the covariance between variables. \n",
    "    • It accounts for the fact that the variances in each direction are different. \n",
    "    • It reduces to the familiar Euclidean distance for uncorrelated variables with unit variance. \n",
    "Mathematically§, Mahalanobis distance is calculated as, \n",
    "\\begin{equation}\n",
    "D^{2}=(x-m)^{T} \\cdot C^{-1} \\cdot(x-m)\n",
    "\\end{equation}\n",
    "where, \n",
    " - D^2        is the square of the Mahalanobis distance. \n",
    " - x          is the vector of the observation (row in a dataset), \n",
    " - m          is the vector of mean values of independent variables (mean of each column), \n",
    " - C^(-1)     is the inverse covariance matrix of independent variables. \n",
    "The Mahalanobis distance takes correlation into account while calculating the distance between point and distribution. PCA Whitening is a method used find the main principal components in the data and thus remove the correlation from the data and finally we get the ecludian distance by seeing the uncorrelated data in single dimension.    \n"
   ]
  },
  {
   "cell_type": "code",
   "execution_count": null,
   "metadata": {},
   "outputs": [],
   "source": []
  }
 ],
 "metadata": {
  "kernelspec": {
   "display_name": "Python 3",
   "language": "python",
   "name": "python3"
  },
  "language_info": {
   "codemirror_mode": {
    "name": "ipython",
    "version": 3
   },
   "file_extension": ".py",
   "mimetype": "text/x-python",
   "name": "python",
   "nbconvert_exporter": "python",
   "pygments_lexer": "ipython3",
   "version": "3.7.2"
  },
  "toc": {
   "base_numbering": 1,
   "nav_menu": {},
   "number_sections": true,
   "sideBar": true,
   "skip_h1_title": false,
   "title_cell": "Table of Contents",
   "title_sidebar": "Contents",
   "toc_cell": false,
   "toc_position": {},
   "toc_section_display": true,
   "toc_window_display": false
  },
  "varInspector": {
   "cols": {
    "lenName": 16,
    "lenType": 16,
    "lenVar": 40
   },
   "kernels_config": {
    "python": {
     "delete_cmd_postfix": "",
     "delete_cmd_prefix": "del ",
     "library": "var_list.py",
     "varRefreshCmd": "print(var_dic_list())"
    },
    "r": {
     "delete_cmd_postfix": ") ",
     "delete_cmd_prefix": "rm(",
     "library": "var_list.r",
     "varRefreshCmd": "cat(var_dic_list()) "
    }
   },
   "types_to_exclude": [
    "module",
    "function",
    "builtin_function_or_method",
    "instance",
    "_Feature"
   ],
   "window_display": false
  }
 },
 "nbformat": 4,
 "nbformat_minor": 2
}
